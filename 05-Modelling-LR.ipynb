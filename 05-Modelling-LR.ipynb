{
 "cells": [
  {
   "cell_type": "markdown",
   "metadata": {},
   "source": [
    "# Logistic Regression based Modelling\n",
    "### we will model CP1, CP2, CP3 | CP-> Classification problem\n",
    "### for each of the classification problem, we will use the curated data sets including both upsampling and down-sampling.\n",
    "### in total, we will produce 5 modelling simulations - 2xCP1, 1XCP2, 3XCP3\n",
    "### CP2 does not require data balancing hence no need for down/up sampling"
   ]
  },
  {
   "cell_type": "code",
   "execution_count": 69,
   "metadata": {},
   "outputs": [],
   "source": [
    "#import relevant libraries for random forest\n",
    "\n",
    "import os\n",
    "\n",
    "import pandas as pd\n",
    "import numpy as np\n",
    "\n",
    "\n",
    "from sklearn.preprocessing import StandardScaler  \n",
    "\n",
    "from sklearn.linear_model import LogisticRegression\n",
    "\n",
    "from sklearn import metrics\n",
    "from sklearn.metrics import classification_report, confusion_matrix, accuracy_score\n",
    "\n",
    "\n",
    "import matplotlib.pyplot as plt\n",
    "#import scikitplot as skplt\n"
   ]
  },
  {
   "cell_type": "markdown",
   "metadata": {},
   "source": [
    "## Classification Problem 1 Modelling"
   ]
  },
  {
   "cell_type": "code",
   "execution_count": 71,
   "metadata": {},
   "outputs": [
    {
     "name": "stdout",
     "output_type": "stream",
     "text": [
      "[0 2 1]\n",
      "file paths:  C:\\Users\\ajayv\\iCloudDrive\\Documents\\work\\OneDrive - Nokia\\01-knowledge\\01-NUS-MTechISS\\02-2019sem2\\CA1\\diabetesclassifier\\dataset_diabetes\\cp1\\cp1_train_downsampled.csv C:\\Users\\ajayv\\iCloudDrive\\Documents\\work\\OneDrive - Nokia\\01-knowledge\\01-NUS-MTechISS\\02-2019sem2\\CA1\\diabetesclassifier\\dataset_diabetes\\cp1\\cp1_train_upsampled.csv\n"
     ]
    }
   ],
   "source": [
    "# locate & load datasets\n",
    "\n",
    "fpath       = os.path.join(os.getcwd(), \"cp1\")\n",
    "\n",
    "#Test data - find current working directory, build the full pathname of the file, and load the data\n",
    "fpath_test = os.path.join(fpath, \"cp1_test.csv\")\n",
    "data_cp1_test=pd.read_csv(fpath_test)\n",
    "\n",
    "y1_test = data_cp1_test.readmitted\n",
    "\n",
    "print(y1_test.unique())\n",
    "X1_test = data_cp1_test.drop(columns=[\"readmitted\"])\n",
    "\n",
    "\n",
    "#Train data - find current working directory, build the full pathname of the file, and load the data\n",
    "\n",
    "fpath_train_ds = os.path.join(fpath, \"cp1_train_downsampled.csv\")\n",
    "\n",
    "fpath_train_us = os.path.join(fpath, \"cp1_train_upsampled.csv\")\n",
    "\n",
    "print(\"file paths: \", fpath_train_ds, fpath_train_us)\n",
    "\n",
    "\n",
    "data_cp1_train_ds = pd.read_csv(fpath_train_ds)\n",
    "data_cp1_train_us = pd.read_csv(fpath_train_us)"
   ]
  },
  {
   "cell_type": "markdown",
   "metadata": {},
   "source": [
    "## Classification problem 1: Down sampling "
   ]
  },
  {
   "cell_type": "code",
   "execution_count": 39,
   "metadata": {},
   "outputs": [],
   "source": [
    "#seperate features and predicted variables\n",
    "\n",
    "y1_train_ds = data_cp1_train_ds.readmitted\n",
    "\n",
    "X1_train_ds = data_cp1_train_ds.drop(columns=[\"readmitted\"])"
   ]
  },
  {
   "cell_type": "code",
   "execution_count": 40,
   "metadata": {},
   "outputs": [],
   "source": [
    "# check for index columns from past\n",
    "# X_train_ds.reset_index(drop=True)"
   ]
  },
  {
   "cell_type": "code",
   "execution_count": 41,
   "metadata": {},
   "outputs": [
    {
     "name": "stderr",
     "output_type": "stream",
     "text": [
      "C:\\ProgramData\\Anaconda3\\lib\\site-packages\\sklearn\\linear_model\\logistic.py:432: FutureWarning: Default solver will be changed to 'lbfgs' in 0.22. Specify a solver to silence this warning.\n",
      "  FutureWarning)\n",
      "C:\\ProgramData\\Anaconda3\\lib\\site-packages\\sklearn\\linear_model\\logistic.py:469: FutureWarning: Default multi_class will be changed to 'auto' in 0.22. Specify the multi_class option to silence this warning.\n",
      "  \"this warning.\", FutureWarning)\n"
     ]
    },
    {
     "name": "stdout",
     "output_type": "stream",
     "text": [
      "Training set score: 0.442\n",
      "Test set score: 0.482\n"
     ]
    }
   ],
   "source": [
    "# Transform variables. apply LogReg\n",
    "\n",
    "scaler = StandardScaler()  #this is z-score based normalization\n",
    "scaler.fit(X1_train_ds)\n",
    "\n",
    "\n",
    "X1_train_ds = scaler.transform(X1_train_ds)  \n",
    "\n",
    "X1_test_ds = scaler.transform(X1_test)\n",
    "\n",
    "logreg = LogisticRegression(C=0.01).fit(X1_train_ds, y1_train_ds)\n",
    "print(\"Training set score: {:.3f}\".format(logreg.score(X1_train_ds, y1_train_ds)))\n",
    "print(\"Test set score: {:.3f}\".format(logreg.score(X1_test_ds, y1_test)))"
   ]
  },
  {
   "cell_type": "code",
   "execution_count": 47,
   "metadata": {},
   "outputs": [
    {
     "name": "stdout",
     "output_type": "stream",
     "text": [
      "[[8705 2299 2321]\n",
      " [3775 2225 2788]\n",
      " [1068  597 1095]]\n",
      "              precision    recall  f1-score   support\n",
      "\n",
      "           0       0.64      0.65      0.65     13325\n",
      "           1       0.43      0.25      0.32      8788\n",
      "           2       0.18      0.40      0.24      2760\n",
      "\n",
      "    accuracy                           0.48     24873\n",
      "   macro avg       0.42      0.43      0.40     24873\n",
      "weighted avg       0.52      0.48      0.49     24873\n",
      "\n"
     ]
    }
   ],
   "source": [
    "# print(logreg.intercept_.T)\n",
    "\n",
    "# print(logreg.coef_.T)\n",
    "\n",
    "y1_pred_ds = logreg.predict(X1_test_ds)\n",
    "print(confusion_matrix(y1_test, y1_pred_ds))  \n",
    "print(classification_report(y1_test, y1_pred_ds)) "
   ]
  },
  {
   "cell_type": "markdown",
   "metadata": {},
   "source": [
    "## Classification problem 1: Up Sampling"
   ]
  },
  {
   "cell_type": "code",
   "execution_count": 43,
   "metadata": {},
   "outputs": [],
   "source": [
    "#seperate features and predicted variables\n",
    "\n",
    "y1_train_us = data_cp1_train_us.readmitted\n",
    "\n",
    "X1_train_us = data_cp1_train_us.drop(columns=[\"readmitted\"])"
   ]
  },
  {
   "cell_type": "code",
   "execution_count": 44,
   "metadata": {},
   "outputs": [
    {
     "name": "stderr",
     "output_type": "stream",
     "text": [
      "C:\\ProgramData\\Anaconda3\\lib\\site-packages\\sklearn\\linear_model\\logistic.py:432: FutureWarning: Default solver will be changed to 'lbfgs' in 0.22. Specify a solver to silence this warning.\n",
      "  FutureWarning)\n",
      "C:\\ProgramData\\Anaconda3\\lib\\site-packages\\sklearn\\linear_model\\logistic.py:469: FutureWarning: Default multi_class will be changed to 'auto' in 0.22. Specify the multi_class option to silence this warning.\n",
      "  \"this warning.\", FutureWarning)\n"
     ]
    },
    {
     "name": "stdout",
     "output_type": "stream",
     "text": [
      "Training set score: 0.438\n",
      "Test set score: 0.483\n"
     ]
    }
   ],
   "source": [
    "# Transform variables. apply LogReg\n",
    "\n",
    "scaler = StandardScaler()  #this is z-score based normalization\n",
    "scaler.fit(X1_train_us)\n",
    "\n",
    "\n",
    "X1_train_us = scaler.transform(X1_train_us)  \n",
    "\n",
    "X1_test_us = scaler.transform(X1_test)\n",
    "\n",
    "logreg = LogisticRegression(C=0.01).fit(X1_train_us, y1_train_us)\n",
    "print(\"Training set score: {:.3f}\".format(logreg.score(X1_train_us, y1_train_us)))\n",
    "print(\"Test set score: {:.3f}\".format(logreg.score(X1_test_us, y1_test)))"
   ]
  },
  {
   "cell_type": "code",
   "execution_count": 46,
   "metadata": {},
   "outputs": [
    {
     "name": "stdout",
     "output_type": "stream",
     "text": [
      "[[8695 2293 2337]\n",
      " [3772 2221 2795]\n",
      " [1066  592 1102]]\n",
      "              precision    recall  f1-score   support\n",
      "\n",
      "           0       0.64      0.65      0.65     13325\n",
      "           1       0.43      0.25      0.32      8788\n",
      "           2       0.18      0.40      0.25      2760\n",
      "\n",
      "    accuracy                           0.48     24873\n",
      "   macro avg       0.42      0.43      0.40     24873\n",
      "weighted avg       0.52      0.48      0.49     24873\n",
      "\n"
     ]
    }
   ],
   "source": [
    "# print(logreg.intercept_.T)\n",
    "\n",
    "# print(logreg.coef_.T)\n",
    "\n",
    "y1_pred_us = logreg.predict(X1_test_us)\n",
    "print(confusion_matrix(y1_test, y1_pred_us))  \n",
    "print(classification_report(y1_test, y1_pred_us)) "
   ]
  },
  {
   "cell_type": "markdown",
   "metadata": {},
   "source": [
    "# Classification Problem 2 Modelling"
   ]
  },
  {
   "cell_type": "code",
   "execution_count": 49,
   "metadata": {},
   "outputs": [
    {
     "name": "stdout",
     "output_type": "stream",
     "text": [
      "file paths:  C:\\Users\\ajayv\\iCloudDrive\\Documents\\work\\OneDrive - Nokia\\01-knowledge\\01-NUS-MTechISS\\02-2019sem2\\CA1\\diabetesclassifier\\dataset_diabetes\\cp2\\cp2_train.csv\n"
     ]
    }
   ],
   "source": [
    "# locate and load datasets\n",
    "\n",
    "fpath       = os.path.join(os.getcwd(), \"cp2\")\n",
    "\n",
    "#Test data - find current working directory and build the full pathname of the file\n",
    "fpath_test = os.path.join(fpath, \"cp2_test.csv\")\n",
    "data_cp2_test=pd.read_csv(fpath_test)\n",
    "\n",
    "\n",
    "y2_test = data_cp2_test.readmit_noreadmit\n",
    "X2_test = data_cp2_test.drop(columns=[\"readmit_noreadmit\"])\n",
    "\n",
    "\n",
    "#Train data - find current working directory and build the full pathname of the file\n",
    "\n",
    "fpath_train = os.path.join(fpath, \"cp2_train.csv\")\n",
    "print(\"file paths: \", fpath_train)\n",
    "\n",
    "data_cp2_train = pd.read_csv(fpath_train)"
   ]
  },
  {
   "cell_type": "code",
   "execution_count": 50,
   "metadata": {},
   "outputs": [
    {
     "data": {
      "text/plain": [
       "array([0, 1], dtype=int64)"
      ]
     },
     "execution_count": 50,
     "metadata": {},
     "output_type": "execute_result"
    }
   ],
   "source": [
    "y2_test.unique()"
   ]
  },
  {
   "cell_type": "code",
   "execution_count": 51,
   "metadata": {},
   "outputs": [],
   "source": [
    "#seperate features and predicted variables\n",
    "\n",
    "y2_train = data_cp2_train.readmit_noreadmit\n",
    "\n",
    "X2_train = data_cp2_train.drop(columns=[\"readmit_noreadmit\"])"
   ]
  },
  {
   "cell_type": "code",
   "execution_count": 52,
   "metadata": {},
   "outputs": [
    {
     "name": "stderr",
     "output_type": "stream",
     "text": [
      "C:\\ProgramData\\Anaconda3\\lib\\site-packages\\sklearn\\linear_model\\logistic.py:432: FutureWarning: Default solver will be changed to 'lbfgs' in 0.22. Specify a solver to silence this warning.\n",
      "  FutureWarning)\n"
     ]
    },
    {
     "name": "stdout",
     "output_type": "stream",
     "text": [
      "Training set score: 0.617\n",
      "Test set score: 0.622\n"
     ]
    }
   ],
   "source": [
    "# Transform variables. apply LogReg\n",
    "\n",
    "scaler = StandardScaler()  #this is z-score based normalization\n",
    "scaler.fit(X2_train)\n",
    "\n",
    "\n",
    "X2_train = scaler.transform(X2_train)  \n",
    "\n",
    "X2_test = scaler.transform(X2_test)\n",
    "\n",
    "logreg = LogisticRegression(C=0.01).fit(X2_train, y2_train)\n",
    "print(\"Training set score: {:.3f}\".format(logreg.score(X2_train, y2_train)))\n",
    "print(\"Test set score: {:.3f}\".format(logreg.score(X2_test, y2_test)))"
   ]
  },
  {
   "cell_type": "code",
   "execution_count": 53,
   "metadata": {},
   "outputs": [
    {
     "name": "stdout",
     "output_type": "stream",
     "text": [
      "[[10536  2789]\n",
      " [ 6609  4939]]\n",
      "              precision    recall  f1-score   support\n",
      "\n",
      "           0       0.61      0.79      0.69     13325\n",
      "           1       0.64      0.43      0.51     11548\n",
      "\n",
      "    accuracy                           0.62     24873\n",
      "   macro avg       0.63      0.61      0.60     24873\n",
      "weighted avg       0.63      0.62      0.61     24873\n",
      "\n"
     ]
    }
   ],
   "source": [
    "# print(logreg.intercept_.T)\n",
    "\n",
    "# print(logreg.coef_.T)\n",
    "\n",
    "y2_pred = logreg.predict(X2_test)\n",
    "print(confusion_matrix(y2_test, y2_pred))  \n",
    "print(classification_report(y2_test, y2_pred)) "
   ]
  },
  {
   "cell_type": "markdown",
   "metadata": {},
   "source": [
    "# Classification Problem 3 Modelling"
   ]
  },
  {
   "cell_type": "code",
   "execution_count": 54,
   "metadata": {},
   "outputs": [
    {
     "name": "stdout",
     "output_type": "stream",
     "text": [
      "file paths:  C:\\Users\\ajayv\\iCloudDrive\\Documents\\work\\OneDrive - Nokia\\01-knowledge\\01-NUS-MTechISS\\02-2019sem2\\CA1\\diabetesclassifier\\dataset_diabetes\\cp3\\cp3_train_downsampled.csv C:\\Users\\ajayv\\iCloudDrive\\Documents\\work\\OneDrive - Nokia\\01-knowledge\\01-NUS-MTechISS\\02-2019sem2\\CA1\\diabetesclassifier\\dataset_diabetes\\cp3\\cp3_train_upsampled.csv\n"
     ]
    }
   ],
   "source": [
    "# locate & load datasets\n",
    "\n",
    "fpath       = os.path.join(os.getcwd(), \"cp3\")\n",
    "\n",
    "#Test data - find current working directory, build the full pathname of the file, and load the data\n",
    "fpath_test = os.path.join(fpath, \"cp3_test.csv\")\n",
    "data_cp3_test=pd.read_csv(fpath_test)\n",
    "\n",
    "data_cp3_test.readmit_in_30_days\n",
    "\n",
    "y3_test = data_cp3_test.readmit_in_30_days\n",
    "X3_test = data_cp3_test.drop(columns=[\"readmit_in_30_days\"])\n",
    "\n",
    "\n",
    "#Train data - find current working directory, build the full pathname of the file, and load the data\n",
    "\n",
    "fpath_train_ds = os.path.join(fpath, \"cp3_train_downsampled.csv\")\n",
    "\n",
    "fpath_train_us = os.path.join(fpath, \"cp3_train_upsampled.csv\")\n",
    "\n",
    "print(\"file paths: \", fpath_train_ds, fpath_train_us)\n",
    "\n",
    "\n",
    "data_cp3_train_ds = pd.read_csv(fpath_train_ds)\n",
    "data_cp3_train_us = pd.read_csv(fpath_train_us)"
   ]
  },
  {
   "cell_type": "markdown",
   "metadata": {},
   "source": [
    "## Classification Problem 3: Down Sampling"
   ]
  },
  {
   "cell_type": "code",
   "execution_count": 55,
   "metadata": {},
   "outputs": [],
   "source": [
    "#seperate features and predicted variables\n",
    "\n",
    "y3_train_ds = data_cp3_train_ds.readmit_in_30_days\n",
    "\n",
    "X3_train_ds = data_cp3_train_ds.drop(columns=[\"readmit_in_30_days\"])"
   ]
  },
  {
   "cell_type": "code",
   "execution_count": 56,
   "metadata": {},
   "outputs": [
    {
     "name": "stderr",
     "output_type": "stream",
     "text": [
      "C:\\ProgramData\\Anaconda3\\lib\\site-packages\\sklearn\\linear_model\\logistic.py:432: FutureWarning: Default solver will be changed to 'lbfgs' in 0.22. Specify a solver to silence this warning.\n",
      "  FutureWarning)\n"
     ]
    },
    {
     "name": "stdout",
     "output_type": "stream",
     "text": [
      "Training set score: 0.600\n",
      "Test set score: 0.656\n"
     ]
    }
   ],
   "source": [
    "# Transform variables. apply LogReg\n",
    "\n",
    "scaler = StandardScaler()  #this is z-score based normalization\n",
    "scaler.fit(X3_train_ds)\n",
    "\n",
    "\n",
    "X3_train_ds = scaler.transform(X3_train_ds)  \n",
    "\n",
    "X3_test_ds = scaler.transform(X3_test)\n",
    "\n",
    "logreg = LogisticRegression(C=0.01).fit(X3_train_ds, y3_train_ds)\n",
    "print(\"Training set score: {:.3f}\".format(logreg.score(X3_train_ds, y3_train_ds)))\n",
    "print(\"Test set score: {:.3f}\".format(logreg.score(X3_test_ds, y3_test)))"
   ]
  },
  {
   "cell_type": "code",
   "execution_count": 57,
   "metadata": {},
   "outputs": [
    {
     "name": "stdout",
     "output_type": "stream",
     "text": [
      "[[5978 2876]\n",
      " [ 548  548]]\n",
      "              precision    recall  f1-score   support\n",
      "\n",
      "           0       0.92      0.68      0.78      8854\n",
      "           1       0.16      0.50      0.24      1096\n",
      "\n",
      "    accuracy                           0.66      9950\n",
      "   macro avg       0.54      0.59      0.51      9950\n",
      "weighted avg       0.83      0.66      0.72      9950\n",
      "\n"
     ]
    }
   ],
   "source": [
    "# print(logreg.intercept_.T)\n",
    "\n",
    "# print(logreg.coef_.T)\n",
    "\n",
    "y3_pred_ds = logreg.predict(X3_test_ds)\n",
    "print(confusion_matrix(y3_test, y3_pred_ds))  \n",
    "print(classification_report(y3_test, y3_pred_ds)) "
   ]
  },
  {
   "cell_type": "markdown",
   "metadata": {},
   "source": [
    "## Classification Problem 3: Up Sampling"
   ]
  },
  {
   "cell_type": "code",
   "execution_count": 59,
   "metadata": {},
   "outputs": [],
   "source": [
    "#seperate features and predicted variables\n",
    "\n",
    "y3_train_us = data_cp3_train_us.readmit_in_30_days\n",
    "\n",
    "X3_train_us = data_cp3_train_us.drop(columns=[\"readmit_in_30_days\"])\n"
   ]
  },
  {
   "cell_type": "code",
   "execution_count": 60,
   "metadata": {},
   "outputs": [
    {
     "name": "stderr",
     "output_type": "stream",
     "text": [
      "C:\\ProgramData\\Anaconda3\\lib\\site-packages\\sklearn\\linear_model\\logistic.py:432: FutureWarning: Default solver will be changed to 'lbfgs' in 0.22. Specify a solver to silence this warning.\n",
      "  FutureWarning)\n"
     ]
    },
    {
     "name": "stdout",
     "output_type": "stream",
     "text": [
      "Training set score: 0.681\n",
      "Test set score: 0.864\n"
     ]
    }
   ],
   "source": [
    "# Transform variables. apply LogReg\n",
    "\n",
    "scaler = StandardScaler()  #this is z-score based normalization\n",
    "scaler.fit(X3_train_us)\n",
    "\n",
    "\n",
    "X3_train_us = scaler.transform(X3_train_us)  \n",
    "\n",
    "X3_test_us = scaler.transform(X3_test)\n",
    "\n",
    "logreg = LogisticRegression(C=0.01).fit(X3_train_us, y3_train_us)\n",
    "print(\"Training set score: {:.3f}\".format(logreg.score(X3_train_us, y3_train_us)))\n",
    "print(\"Test set score: {:.3f}\".format(logreg.score(X3_test_us, y3_test)))"
   ]
  },
  {
   "cell_type": "code",
   "execution_count": 61,
   "metadata": {},
   "outputs": [
    {
     "name": "stdout",
     "output_type": "stream",
     "text": [
      "[[8459  395]\n",
      " [ 960  136]]\n",
      "              precision    recall  f1-score   support\n",
      "\n",
      "           0       0.90      0.96      0.93      8854\n",
      "           1       0.26      0.12      0.17      1096\n",
      "\n",
      "    accuracy                           0.86      9950\n",
      "   macro avg       0.58      0.54      0.55      9950\n",
      "weighted avg       0.83      0.86      0.84      9950\n",
      "\n"
     ]
    }
   ],
   "source": [
    "# print(logreg.intercept_.T)\n",
    "\n",
    "# print(logreg.coef_.T)\n",
    "\n",
    "y3_pred_us = logreg.predict(X3_test_us)\n",
    "print(confusion_matrix(y3_test, y3_pred_us))  \n",
    "print(classification_report(y3_test, y3_pred_us)) "
   ]
  },
  {
   "cell_type": "markdown",
   "metadata": {},
   "source": [
    "### ROC - CP3/Upsampling"
   ]
  },
  {
   "cell_type": "code",
   "execution_count": 63,
   "metadata": {},
   "outputs": [
    {
     "name": "stdout",
     "output_type": "stream",
     "text": [
      "Accuracy= 0.8638190954773869\n"
     ]
    },
    {
     "data": {
      "image/png": "[encoded data removed]",
      "text/plain": [
       "<Figure size 432x288 with 1 Axes>"
      ]
     },
     "metadata": {
      "needs_background": "light"
     },
     "output_type": "display_data"
    }
   ],
   "source": [
    "from sklearn import metrics\n",
    "\n",
    "\n",
    "print(\"Accuracy=\", metrics.accuracy_score(y3_test, y3_pred_us))\n",
    " \n",
    "y3_pred_proba = logreg.predict_proba(X3_test_us)[::,1]\n",
    "fpr, tpr, _ = metrics.roc_curve(y3_test,  y3_pred_proba)\n",
    "auc = metrics.roc_auc_score(y3_test, y3_pred_proba)\n",
    "\n",
    "plt.plot(fpr,tpr,label=\"logreg, auc=\"+str(auc))\n",
    "plt.plot([0,1],[0,1],'k--')\n",
    "plt.legend(loc=4)\n",
    "plt.show()"
   ]
  },
  {
   "cell_type": "markdown",
   "metadata": {},
   "source": [
    "## Gain and lift curve - CP3 upsampling"
   ]
  },
  {
   "cell_type": "code",
   "execution_count": 64,
   "metadata": {},
   "outputs": [
    {
     "ename": "ModuleNotFoundError",
     "evalue": "No module named 'scikitplot'",
     "output_type": "error",
     "traceback": [
      "\u001b[1;31m---------------------------------------------------------------------------\u001b[0m",
      "\u001b[1;31mModuleNotFoundError\u001b[0m                       Traceback (most recent call last)",
      "\u001b[1;32m<ipython-input-64-8262d871cfbb>\u001b[0m in \u001b[0;36m<module>\u001b[1;34m\u001b[0m\n\u001b[0;32m      1\u001b[0m \u001b[1;31m#!conda install -c conda-forge scikit-plot\u001b[0m\u001b[1;33m\u001b[0m\u001b[1;33m\u001b[0m\u001b[1;33m\u001b[0m\u001b[0m\n\u001b[0;32m      2\u001b[0m \u001b[1;32mimport\u001b[0m \u001b[0mmatplotlib\u001b[0m\u001b[1;33m.\u001b[0m\u001b[0mpyplot\u001b[0m \u001b[1;32mas\u001b[0m \u001b[0mplt\u001b[0m\u001b[1;33m\u001b[0m\u001b[1;33m\u001b[0m\u001b[0m\n\u001b[1;32m----> 3\u001b[1;33m \u001b[1;32mimport\u001b[0m \u001b[0mscikitplot\u001b[0m \u001b[1;32mas\u001b[0m \u001b[0mskplt\u001b[0m\u001b[1;33m\u001b[0m\u001b[1;33m\u001b[0m\u001b[0m\n\u001b[0m\u001b[0;32m      4\u001b[0m \u001b[0my_pred_probas\u001b[0m \u001b[1;33m=\u001b[0m \u001b[0mlogreg\u001b[0m\u001b[1;33m.\u001b[0m\u001b[0mpredict_proba\u001b[0m\u001b[1;33m(\u001b[0m\u001b[0mX_test\u001b[0m\u001b[1;33m)\u001b[0m\u001b[1;33m\u001b[0m\u001b[1;33m\u001b[0m\u001b[0m\n",
      "\u001b[1;31mModuleNotFoundError\u001b[0m: No module named 'scikitplot'"
     ]
    }
   ],
   "source": [
    "\n",
    "#!conda install -c conda-forge scikit-plot\n",
    "import matplotlib.pyplot as plt\n",
    "import scikitplot as skplt\n",
    "y3_pred_probas = logreg.predict_proba(X3_test_us)"
   ]
  },
  {
   "cell_type": "code",
   "execution_count": 65,
   "metadata": {},
   "outputs": [
    {
     "ename": "NameError",
     "evalue": "name 'skplt' is not defined",
     "output_type": "error",
     "traceback": [
      "\u001b[1;31m---------------------------------------------------------------------------\u001b[0m",
      "\u001b[1;31mNameError\u001b[0m                                 Traceback (most recent call last)",
      "\u001b[1;32m<ipython-input-65-ba39e31954bb>\u001b[0m in \u001b[0;36m<module>\u001b[1;34m\u001b[0m\n\u001b[1;32m----> 1\u001b[1;33m \u001b[0mskplt\u001b[0m\u001b[1;33m.\u001b[0m\u001b[0mmetrics\u001b[0m\u001b[1;33m.\u001b[0m\u001b[0mplot_cumulative_gain\u001b[0m\u001b[1;33m(\u001b[0m\u001b[0my_test\u001b[0m\u001b[1;33m,\u001b[0m \u001b[0my_pred_probas\u001b[0m\u001b[1;33m)\u001b[0m\u001b[1;33m\u001b[0m\u001b[1;33m\u001b[0m\u001b[0m\n\u001b[0m\u001b[0;32m      2\u001b[0m \u001b[0mplt\u001b[0m\u001b[1;33m.\u001b[0m\u001b[0mshow\u001b[0m\u001b[1;33m(\u001b[0m\u001b[1;33m)\u001b[0m\u001b[1;33m\u001b[0m\u001b[1;33m\u001b[0m\u001b[0m\n",
      "\u001b[1;31mNameError\u001b[0m: name 'skplt' is not defined"
     ]
    }
   ],
   "source": [
    "skplt.metrics.plot_cumulative_gain(y3_test, y3_pred_probas)\n",
    "plt.show()"
   ]
  },
  {
   "cell_type": "code",
   "execution_count": 66,
   "metadata": {},
   "outputs": [
    {
     "ename": "NameError",
     "evalue": "name 'skplt' is not defined",
     "output_type": "error",
     "traceback": [
      "\u001b[1;31m---------------------------------------------------------------------------\u001b[0m",
      "\u001b[1;31mNameError\u001b[0m                                 Traceback (most recent call last)",
      "\u001b[1;32m<ipython-input-66-61e1a36815f7>\u001b[0m in \u001b[0;36m<module>\u001b[1;34m\u001b[0m\n\u001b[1;32m----> 1\u001b[1;33m \u001b[0mskplt\u001b[0m\u001b[1;33m.\u001b[0m\u001b[0mmetrics\u001b[0m\u001b[1;33m.\u001b[0m\u001b[0mplot_lift_curve\u001b[0m\u001b[1;33m(\u001b[0m\u001b[0my_test\u001b[0m\u001b[1;33m,\u001b[0m \u001b[0my_pred_probas\u001b[0m\u001b[1;33m)\u001b[0m\u001b[1;33m\u001b[0m\u001b[1;33m\u001b[0m\u001b[0m\n\u001b[0m\u001b[0;32m      2\u001b[0m \u001b[0mplt\u001b[0m\u001b[1;33m.\u001b[0m\u001b[0mshow\u001b[0m\u001b[1;33m(\u001b[0m\u001b[1;33m)\u001b[0m\u001b[1;33m\u001b[0m\u001b[1;33m\u001b[0m\u001b[0m\n",
      "\u001b[1;31mNameError\u001b[0m: name 'skplt' is not defined"
     ]
    }
   ],
   "source": [
    "skplt.metrics.plot_lift_curve(y3_test, y3_pred_probas)\n",
    "plt.show()"
   ]
  },
  {
   "cell_type": "code",
   "execution_count": null,
   "metadata": {},
   "outputs": [],
   "source": []
  }
 ],
 "metadata": {
  "kernelspec": {
   "display_name": "Python 3",
   "language": "python",
   "name": "python3"
  },
  "language_info": {
   "codemirror_mode": {
    "name": "ipython",
    "version": 3
   },
   "file_extension": ".py",
   "mimetype": "text/x-python",
   "name": "python",
   "nbconvert_exporter": "python",
   "pygments_lexer": "ipython3",
   "version": "3.7.4"
  }
 },
 "nbformat": 4,
 "nbformat_minor": 2
}
